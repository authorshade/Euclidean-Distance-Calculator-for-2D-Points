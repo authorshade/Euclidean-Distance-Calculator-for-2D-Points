{
 "cells": [
  {
   "cell_type": "code",
   "execution_count": 10,
   "id": "821c503b-ac8d-4d3a-9e31-ec6e2c761a22",
   "metadata": {},
   "outputs": [
    {
     "name": "stdout",
     "output_type": "stream",
     "text": [
      "Minimum mesafe: 2.8284271247461903\n"
     ]
    }
   ],
   "source": [
    "#Noktaların Tanımlanması:\n",
    "points = [(1,2), (3,4), (5,6)]  # (x, y)\n",
    "\n",
    "#Öklid Mesafesi İçin Bir Fonksiyon Yazma:\n",
    "def euclideanDistance(point1,point2):\n",
    "    return ((point2[0]-point1[0])**2 + (point2[1]-point1[1])**2)**(1/2)  #d = √(x₂-x₁)²+(y₂-y₁)²\n",
    "\n",
    "#Mesafeleri Saklayacak Liste Oluşturma:\n",
    "distances = []\n",
    "\n",
    "for i in range(len(points)): #point1 seçimi\n",
    "    for j in range(i+1, len(points)): #point2 seçimi\n",
    "        distance = euclideanDistance(points[i], points[j]) \n",
    "        distances.append(distance)\n",
    "\n",
    "#Minimum Mesafenin Bulunması:\n",
    "min_distance = min(distances)\n",
    "print(\"Minimum mesafe:\", min_distance)\n",
    "        \n",
    "    "
   ]
  },
  {
   "cell_type": "code",
   "execution_count": null,
   "id": "b3ea7265-cd21-4a60-a615-48a10ef7de60",
   "metadata": {},
   "outputs": [],
   "source": []
  },
  {
   "cell_type": "code",
   "execution_count": null,
   "id": "cf8e1ced-3ef3-441a-a007-20fdabff2aa8",
   "metadata": {},
   "outputs": [],
   "source": []
  }
 ],
 "metadata": {
  "kernelspec": {
   "display_name": "Python 3 (ipykernel)",
   "language": "python",
   "name": "python3"
  },
  "language_info": {
   "codemirror_mode": {
    "name": "ipython",
    "version": 3
   },
   "file_extension": ".py",
   "mimetype": "text/x-python",
   "name": "python",
   "nbconvert_exporter": "python",
   "pygments_lexer": "ipython3",
   "version": "3.12.4"
  }
 },
 "nbformat": 4,
 "nbformat_minor": 5
}
